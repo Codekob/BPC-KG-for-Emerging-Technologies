{
 "cells": [
  {
   "cell_type": "markdown",
   "metadata": {},
   "source": [
    "# Fetching the Relevant Companies\n",
    "\n",
    "Currently we have fetched roughly 80 technologies and 6 000 papers. Now we need to fetch companies. In our papers dataset we have the property **institutions**. These are the insitutions affiliated to the authors in the paper. We know explore how useful this data is."
   ]
  },
  {
   "cell_type": "code",
   "execution_count": null,
   "metadata": {},
   "outputs": [
    {
     "name": "stdout",
     "output_type": "stream",
     "text": [
      "4409 out of 6000 papers have institutions assigned to them (73.48%)\n"
     ]
    }
   ],
   "source": [
    "# How many papers do have institutions assigned to them\n",
    "import json \n",
    "\n",
    "def compute_institutions_coverage(file_path):\n",
    "    total_count = 0\n",
    "    with_intsitutions_count = 0\n",
    "    with open(file_path, 'r', encoding='utf-8') as f:\n",
    "        for line in f:\n",
    "            line = line.strip()\n",
    "            if not line:\n",
    "                continue\n",
    "            try: \n",
    "                paper = json.loads(line)\n",
    "            except json.JSONDecodeError:\n",
    "                continue\n",
    "            \n",
    "            total_count += 1\n",
    "            institutions = paper.get('institutions') \n",
    "            if isinstance(institutions, list) and len(institutions) > 0:\n",
    "                with_intsitutions_count += 1\n",
    "                \n",
    "    percentage = (with_intsitutions_count / total_count) * 100 if total_count > 0 else 0\n",
    "    return with_intsitutions_count, total_count, percentage\n",
    "\n",
    "data_file = \"../data/papers-data/cleaned_papers.jsonl\"\n",
    "count, total, pct = compute_institutions_coverage(data_file)\n",
    "print(f\"{count} out of {total} papers have institutions assigned to them ({pct:.2f}%)\")\n"
   ]
  },
  {
   "cell_type": "code",
   "execution_count": 8,
   "metadata": {},
   "outputs": [
    {
     "name": "stdout",
     "output_type": "stream",
     "text": [
      "Total number of institutions: 7649\n",
      "Total number of institutions: 5420\n"
     ]
    }
   ],
   "source": [
    "# Create a simple dataframe of the institutions and how often they show up\n",
    "import pandas as pd\n",
    "from collections import Counter\n",
    "\n",
    "def compute_institutions_frequency(file_path):\n",
    "    counter = Counter()\n",
    "    total_papers = 0\n",
    "    with open(file_path, 'r', encoding='utf-8') as f:\n",
    "        for line in f:\n",
    "            line = line.strip()\n",
    "            if not line:\n",
    "                continue\n",
    "            try: \n",
    "                paper = json.loads(line)\n",
    "            except json.JSONDecodeError:\n",
    "                continue\n",
    "            \n",
    "            total_papers += 1\n",
    "            institutions = paper.get('institutions') \n",
    "            if isinstance(institutions, list):\n",
    "                for inst in institutions:\n",
    "                    if isinstance(inst, dict): \n",
    "                        name = inst.get(\"display_name\")\n",
    "                        if isinstance(name, str) and name.strip():\n",
    "                            counter[name.strip()] += 1\n",
    "    \n",
    "    df = pd.DataFrame(counter.items(), columns=['institution', 'count'])\n",
    "    df = df.sort_values(by='count', ascending=False).reset_index(drop=True)\n",
    "    return df\n",
    "\n",
    "df_counts = compute_institutions_frequency(data_file)\n",
    "# convert dataframe to csv \n",
    "output_file = \"../data/company-data/institutions_counts.csv\"\n",
    "df_counts.to_csv(output_file, index=False)\n",
    "print(f\"Total number of institutions: {len(df_counts)}\")\n",
    "\n",
    "\n",
    "# create new dataframe with only instituions that dont have \"university\" in their name to get a rough sense how many universities are in the data\n",
    "df_non_universities = df_counts[~df_counts['institution'].str.contains(\"university\", case=False, na=False)]\n",
    "output_file_non_universities = \"../data/company-data/institutions_counts_non_universities.csv\"\n",
    "df_non_universities.to_csv(output_file_non_universities, index=False)\n",
    "print(f\"Total number of institutions: {len(df_non_universities)}\")"
   ]
  }
 ],
 "metadata": {
  "kernelspec": {
   "display_name": "base",
   "language": "python",
   "name": "python3"
  },
  "language_info": {
   "codemirror_mode": {
    "name": "ipython",
    "version": 3
   },
   "file_extension": ".py",
   "mimetype": "text/x-python",
   "name": "python",
   "nbconvert_exporter": "python",
   "pygments_lexer": "ipython3",
   "version": "3.11.7"
  }
 },
 "nbformat": 4,
 "nbformat_minor": 2
}
