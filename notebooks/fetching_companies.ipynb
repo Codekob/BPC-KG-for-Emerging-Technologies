{
 "cells": [
  {
   "cell_type": "markdown",
   "metadata": {},
   "source": [
    "# Fetching the Relevant Companies\n",
    "\n",
    "Currently we have fetched roughly 80 technologies and 6 000 papers. Now we need to fetch companies. In our papers dataset we have the property **institutions**. These are the insitutions affiliated to the authors in the paper. We know explore how useful this data is."
   ]
  },
  {
   "cell_type": "code",
   "execution_count": null,
   "metadata": {
    "vscode": {
     "languageId": "plaintext"
    }
   },
   "outputs": [],
   "source": []
  }
 ],
 "metadata": {
  "language_info": {
   "name": "python"
  }
 },
 "nbformat": 4,
 "nbformat_minor": 2
}
