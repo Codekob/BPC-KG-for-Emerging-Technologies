{
 "cells": [
  {
   "cell_type": "markdown",
   "metadata": {},
   "source": [
    "# Fetching the Relevant Companies\n",
    "\n",
    "Currently we have fetched roughly 80 technologies and 6 000 papers. Now we need to fetch companies. In our papers dataset we have the property **institutions**. These are the insitutions affiliated to the authors in the paper. We know explore how useful this data is."
   ]
  },
  {
   "cell_type": "code",
   "execution_count": 2,
   "metadata": {},
   "outputs": [
    {
     "name": "stdout",
     "output_type": "stream",
     "text": [
      "3920 out of 6000 papers have institutions assigned to them (65.33%)\n"
     ]
    }
   ],
   "source": [
    "# How many papers do have institutions assigned to them\n",
    "import json \n",
    "\n",
    "def compute_institutions_coverage(file_path):\n",
    "    total_count = 0\n",
    "    with_intsitutions_count = 0\n",
    "    with open(file_path, 'r', encoding='utf-8') as f:\n",
    "        for line in f:\n",
    "            line = line.strip()\n",
    "            if not line:\n",
    "                continue\n",
    "            try: \n",
    "                paper = json.loads(line)\n",
    "            except json.JSONDecodeError:\n",
    "                continue\n",
    "            \n",
    "            total_count += 1\n",
    "            institutions = paper.get('institutions') \n",
    "            if isinstance(institutions, list) and len(institutions) > 0:\n",
    "                with_intsitutions_count += 1\n",
    "                \n",
    "    percentage = (with_intsitutions_count / total_count) * 100 if total_count > 0 else 0\n",
    "    return with_intsitutions_count, total_count, percentage\n",
    "\n",
    "data_file = \"../data/papers-data/cleaned_papers.jsonl\"\n",
    "count, total, pct = compute_institutions_coverage(data_file)\n",
    "print(f\"{count} out of {total} papers have institutions assigned to them ({pct:.2f}%)\")\n"
   ]
  }
 ],
 "metadata": {
  "kernelspec": {
   "display_name": "base",
   "language": "python",
   "name": "python3"
  },
  "language_info": {
   "codemirror_mode": {
    "name": "ipython",
    "version": 3
   },
   "file_extension": ".py",
   "mimetype": "text/x-python",
   "name": "python",
   "nbconvert_exporter": "python",
   "pygments_lexer": "ipython3",
   "version": "3.11.7"
  }
 },
 "nbformat": 4,
 "nbformat_minor": 2
}
