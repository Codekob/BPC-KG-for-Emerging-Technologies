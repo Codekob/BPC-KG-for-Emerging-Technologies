{
 "cells": [
  {
   "cell_type": "markdown",
   "id": "9a9cd268",
   "metadata": {},
   "source": [
    "# Caluclating Metrics from our linking\n"
   ]
  },
  {
   "cell_type": "code",
   "execution_count": null,
   "id": "6b463c09",
   "metadata": {},
   "outputs": [],
   "source": [
    "import os \n",
    "import pandas as pd\n",
    "import requests\n",
    "import json\n",
    "\n",
    "# get the inverted abstract of each paper\n",
    "\n",
    "# import linking data\n",
    "links_df = pd.read_csv('../data/linking-data/paper_technology_links.csv')\n",
    "links_df['paper_id'] = links_df['paper_id'].str.replace('https://openalex.org/', '')\n",
    "paper_ids = links_df['paper_id'].tolist()\n",
    "\n",
    "url = \"https://api.openalex.org/works\"\n",
    "mail = os.getenv(\"MAIL\")\n",
    "\n",
    "paper_without_abstracts = 0\n",
    "\n",
    "for paper in paper_ids:\n",
    "    request_url = f\"{url}/{paper}\"\n",
    "    params = {\n",
    "        \"mailto\": mail,\n",
    "        \"select\": \"abstract_inverted_index\"\n",
    "    }\n",
    "    response = requests.get(request_url, params=params)\n",
    "    if response.status_code == 200:\n",
    "        data = response.json()\n",
    "        if 'abstract_inverted_index' in data:\n",
    "            abstract_inverted_index = data['abstract_inverted_index']\n",
    "            with open(f\"../data/linking-data/abstracts/{paper}.json\", \"w\") as f:\n",
    "                json.dump(abstract_inverted_index, f)\n",
    "        else:\n",
    "            print(f\"No abstract found for paper {paper}\")\n",
    "            paper_without_abstracts += 1\n",
    "    else:\n",
    "        print(f\"Failed to retrieve data for paper {paper}: {response.status_code}\")\n",
    "        \n",
    "print(f\"Total papers without abstracts: {paper_without_abstracts}\")"
   ]
  }
 ],
 "metadata": {
  "kernelspec": {
   "display_name": "base",
   "language": "python",
   "name": "python3"
  },
  "language_info": {
   "codemirror_mode": {
    "name": "ipython",
    "version": 3
   },
   "file_extension": ".py",
   "mimetype": "text/x-python",
   "name": "python",
   "nbconvert_exporter": "python",
   "pygments_lexer": "ipython3",
   "version": "3.11.7"
  }
 },
 "nbformat": 4,
 "nbformat_minor": 5
}
