{
 "cells": [
  {
   "cell_type": "markdown",
   "metadata": {},
   "source": [
    "# Fetching Companies and descriptions with Crunchbase\n",
    "\n",
    "We have a list of the top 800 highest evaluated startups in Europe. We can now use the Crunchbase API to get infomration relevant for linking"
   ]
  },
  {
   "cell_type": "code",
   "execution_count": null,
   "metadata": {},
   "outputs": [],
   "source": [
    "import requests\n",
    "import os\n",
    "\n",
    "API_KEY = os.getenv(\"CRUNCHBASE_API_KEY\")\n",
    "BASE_URL = \"https://api.crunchbase.com/v4/data/searches/organizations\"\n",
    "\n",
    "params = {\"user_key\": API_KEY}\n",
    "headers = {\"Content-Type\": \"application/json\"}\n",
    "\n",
    "payload = {\n",
    "    \"field_ids\": [\"identifier\",\n",
    "    \"short_description\",\n",
    "    \"description\",\n",
    "    \"website\",\n",
    "    \"company_type\",\n",
    "    \"location_identifiers\",\n",
    "    \"funding_total\",\n",
    "    \"founded_on\",\n",
    "    \"funding_stage\",\n",
    "    \"category_groups\",\n",
    "    \"categories\"],\n",
    "    \"query\":[\n",
    "        {\n",
    "        \"type\":\"predicate\",\n",
    "        \"field_id\":\"founded_on\",\n",
    "        \"operator_id\":\"gte\",\n",
    "        \"values\":[\"2020-01-01\"]\n",
    "        },\n",
    "        {\n",
    "        \"operator_id\": \"includes\",\n",
    "        \"type\": \"predicate\",\n",
    "        \"field_id\": \"funding_stage\",\n",
    "        \"values\": [\n",
    "            \"seed\",\n",
    "            \"early_stage_venture\",\n",
    "            \"late_stage_venture\"\n",
    "        ]\n",
    "        },\n",
    "        {\n",
    "        \"type\":\"predicate\",\n",
    "        \"field_id\":\"location_identifiers\",\n",
    "        \"operator_id\":\"includes\",\n",
    "        \"values\":[\"6106f5dc-823e-5da8-40d7-51612c0b2c4e\"]\n",
    "        }\n",
    "  ],\n",
    "    \"order\": [\n",
    "        {\n",
    "            \"field_id\": \"equity_funding_total\",\n",
    "            \"sort\": \"desc\"\n",
    "        }\n",
    "    ],\n",
    "    \"limit\": 800\n",
    "}\n",
    "\n",
    "response = requests.post(BASE_URL, params=params, headers=headers, json=payload)\n",
    "response.raise_for_status()\n",
    "data = response.json()\n",
    "\n",
    "\n",
    "for item in data.get(\"entities\", []):\n",
    "    props = item.get(\"properties\", {})\n",
    "    identifier = props.get(\"identifier\", {}).get(\"value\", \"\")\n",
    "    country = next((loc.get(\"value\") for loc in props.get(\"location_identifiers\", []) if loc.get(\"location_type\") == \"country\"), None)\n",
    "    founded_on = props.get(\"founded_on\", {}).get(\"value\", \"\")\n",
    "    funding_total = props.get(\"funding_total\", {}).get(\"value_usd\", \"\")\n",
    "    print(f\"{identifier} | {country} | {founded_on} | {funding_total}\")\n",
    "\n",
    "    \n",
    "\n"
   ]
  },
  {
   "cell_type": "code",
   "execution_count": 32,
   "metadata": {},
   "outputs": [],
   "source": [
    "import json\n",
    "\n",
    "# save response to raw json\n",
    "\n",
    "with open(\"../data/company-data/crunchbase_fetching_raw.json\", \"w\") as f:\n",
    "    json.dump(data[\"entities\"], f, indent=2)\n",
    "    \n"
   ]
  },
  {
   "cell_type": "code",
   "execution_count": 34,
   "metadata": {},
   "outputs": [
    {
     "name": "stdout",
     "output_type": "stream",
     "text": [
      "CSV contains 200 rows\n"
     ]
    }
   ],
   "source": [
    "import csv\n",
    "\n",
    "with open(\"../data/company-data/crunchbase_fetching_raw.json\") as f:\n",
    "    data = json.load(f)\n",
    "\n",
    "with open(\"../data/company-data/crunchbase_fetch_linking.csv\", \"w\", newline=\"\") as f:\n",
    "    writer = csv.writer(f)\n",
    "    writer.writerow([\"identifier.value\", \"identifier.permalink\", \"description\"])\n",
    "    for entity in data:\n",
    "        props = entity[\"properties\"]\n",
    "        identifier = props.get(\"identifier\", {})\n",
    "        writer.writerow([\n",
    "            identifier.get(\"value\", \"\"),\n",
    "            identifier.get(\"permalink\", \"\"),\n",
    "            props.get(\"description\", \"\")\n",
    "        ])\n",
    "        \n",
    "        \n",
    "# Count rows in the CSV\n",
    "with open(\"../data/company-data/crunchbase_fetch_linking.csv\") as f:\n",
    "    reader = csv.reader(f)\n",
    "    next(reader) # Skip header\n",
    "    row_count = sum(1 for row in reader)\n",
    "print(f\"CSV contains {row_count} rows\")\n"
   ]
  }
 ],
 "metadata": {
  "kernelspec": {
   "display_name": "base",
   "language": "python",
   "name": "python3"
  },
  "language_info": {
   "codemirror_mode": {
    "name": "ipython",
    "version": 3
   },
   "file_extension": ".py",
   "mimetype": "text/x-python",
   "name": "python",
   "nbconvert_exporter": "python",
   "pygments_lexer": "ipython3",
   "version": "3.11.7"
  }
 },
 "nbformat": 4,
 "nbformat_minor": 2
}
